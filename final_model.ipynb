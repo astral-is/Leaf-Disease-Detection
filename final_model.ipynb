{
  "nbformat": 4,
  "nbformat_minor": 0,
  "metadata": {
    "colab": {
      "provenance": [],
      "gpuType": "T4"
    },
    "kernelspec": {
      "name": "python3",
      "display_name": "Python 3"
    },
    "language_info": {
      "name": "python"
    },
    "accelerator": "GPU"
  },
  "cells": [
    {
      "cell_type": "code",
      "source": [
        "!unzip /content/drive/MyDrive/archive.zip"
      ],
      "metadata": {
        "id": "ytt1lPWOQWZs"
      },
      "execution_count": null,
      "outputs": []
    },
    {
      "cell_type": "code",
      "source": [
        "import tensorflow as tf\n",
        "from tensorflow.keras import layers, models\n",
        "from tensorflow.keras.preprocessing.image import ImageDataGenerator"
      ],
      "metadata": {
        "id": "A7RODpj-Pldl"
      },
      "execution_count": null,
      "outputs": []
    },
    {
      "cell_type": "code",
      "execution_count": null,
      "metadata": {
        "id": "jM_FtqphO7Gw"
      },
      "outputs": [],
      "source": [
        "#Data Folders\n",
        "train_data_dir = '/content/tomato/train'\n",
        "test_data_dir = '/content/tomato/val'"
      ]
    },
    {
      "cell_type": "code",
      "source": [
        "#Set batch size and image size\n",
        "batch_size = 16\n",
        "img_height = 150\n",
        "img_width = 150"
      ],
      "metadata": {
        "id": "aMZB2RqrPo3M"
      },
      "execution_count": null,
      "outputs": []
    },
    {
      "cell_type": "code",
      "source": [
        "#Data generators for the images\n",
        "train_datagen = ImageDataGenerator(\n",
        "    rescale=1.0/255,\n",
        "    rotation_range=20,\n",
        "    width_shift_range=0.2,\n",
        "    height_shift_range=0.2,\n",
        "    shear_range=0.2,\n",
        "    zoom_range=0.2,\n",
        "    horizontal_flip=True,\n",
        "    fill_mode='nearest'\n",
        ")\n",
        "\n",
        "test_datagen = ImageDataGenerator(rescale=1.0/255)\n",
        "\n",
        "train_generator = train_datagen.flow_from_directory(\n",
        "    train_data_dir,\n",
        "    target_size=(img_height, img_width),\n",
        "    batch_size=batch_size,\n",
        "    class_mode='categorical'\n",
        ")\n",
        "\n",
        "test_generator = test_datagen.flow_from_directory(\n",
        "    test_data_dir,\n",
        "    target_size=(img_height, img_width),\n",
        "    batch_size=batch_size,\n",
        "    class_mode='categorical'\n",
        ")"
      ],
      "metadata": {
        "id": "mHSUSCH3PuR2"
      },
      "execution_count": null,
      "outputs": []
    },
    {
      "cell_type": "code",
      "source": [
        "#CNN model\n",
        "model = models.Sequential([\n",
        "    layers.Conv2D(32, (3, 3), activation='relu', input_shape=(150, 150, 3)),\n",
        "    layers.MaxPooling2D((2, 2)),\n",
        "    layers.Conv2D(64, (3, 3), activation='relu'),\n",
        "    layers.MaxPooling2D((2, 2)),\n",
        "    layers.Conv2D(128, (3, 3), activation='relu'),\n",
        "    layers.MaxPooling2D((2, 2)),\n",
        "    layers.Flatten(),\n",
        "    layers.Dense(128, activation='relu'),\n",
        "    layers.Dropout(0.5),\n",
        "    layers.Dense(10, activation='softmax')\n",
        "])"
      ],
      "metadata": {
        "id": "_8xedsPWP8-o"
      },
      "execution_count": null,
      "outputs": []
    },
    {
      "cell_type": "code",
      "source": [
        "#Compile\n",
        "model.compile(optimizer='adam',\n",
        "              loss='categorical_crossentropy',\n",
        "              metrics=['accuracy'])"
      ],
      "metadata": {
        "id": "qVDZDiuRQBZM"
      },
      "execution_count": null,
      "outputs": []
    },
    {
      "cell_type": "code",
      "source": [
        "#Train\n",
        "model.fit(\n",
        "    train_generator,\n",
        "    steps_per_epoch=312,\n",
        "    epochs=10,\n",
        "    validation_data=test_generator\n",
        ")"
      ],
      "metadata": {
        "id": "CjqNcX6AQE-P"
      },
      "execution_count": null,
      "outputs": []
    },
    {
      "cell_type": "code",
      "source": [
        "# Save the model\n",
        "model.save('plant_leaf_disease_model.h5')"
      ],
      "metadata": {
        "id": "-nmOW7a-QHGP"
      },
      "execution_count": null,
      "outputs": []
    },
    {
      "cell_type": "code",
      "source": [
        "!pip install gradio"
      ],
      "metadata": {
        "id": "O6ivHI1ygEBA"
      },
      "execution_count": null,
      "outputs": []
    },
    {
      "cell_type": "code",
      "source": [
        "import gradio as gr\n",
        "import tensorflow as tf\n",
        "import numpy as np\n",
        "\n",
        "# Load the trained model\n",
        "model = tf.keras.models.load_model('/content/plant_leaf_disease_model.h5')\n",
        "\n",
        "# Define a function to make predictions\n",
        "def classify_leaf(image):\n",
        "    # Preprocess the input image\n",
        "    img = tf.image.resize(image, (150, 150))\n",
        "    img = tf.keras.preprocessing.image.img_to_array(img)\n",
        "    img = np.expand_dims(img, axis=0)\n",
        "    img = img / 255.0  # Normalize the image\n",
        "\n",
        "    # Make a prediction\n",
        "    predictions = model.predict(img)\n",
        "    class_id = np.argmax(predictions)\n",
        "    confidence = predictions[0][class_id]\n",
        "\n",
        "    class_labels = [\"Bacterial Spot\", \"Early Blight\", \"Late Blight\", \"Leaf Mold\", \"Septoria Leaf Spot\", \"Spider Mites\", \"Target Spot\", \"Yellow Leaf Curl Virus\", \"Mosaic Virus\", \"Healthy\"]\n",
        "\n",
        "    return f\"Predicted Disease:  {class_labels[class_id]}.\\nConfidence: {confidence:.2f}\"\n",
        "\n",
        "# Create a Gradio interface\n",
        "iface = gr.Interface(\n",
        "    fn=classify_leaf,\n",
        "    inputs=gr.inputs.Image(type=\"pil\", label=\"Upload a plant leaf image-\"),\n",
        "    outputs=\"text\"\n",
        ")\n",
        "\n",
        "# Launch the interface\n",
        "iface.launch(share=True)"
      ],
      "metadata": {
        "id": "oZRQESrSefJo"
      },
      "execution_count": null,
      "outputs": []
    }
  ]
}